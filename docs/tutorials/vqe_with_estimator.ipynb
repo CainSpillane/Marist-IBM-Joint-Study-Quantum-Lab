{
 "cells": [
  {
   "attachments": {},
   "cell_type": "markdown",
   "id": "224fc5e2",
   "metadata": {},
   "source": [
    "# VQE using Estimator primitive and Sessions"
   ]
  },
  {
   "attachments": {},
   "cell_type": "markdown",
   "id": "a6f69b77",
   "metadata": {},
   "source": [
    "## Background\n",
    "\n",
    "[Variational quantum algorithms](https://arxiv.org/abs/2012.09265) are promising candidate hybrid-algorithms for observing the utility of quantum computation on noisy near-term devices. Variational algorithms are characterized by the use of a classical optimization algorithm to iteratively update a parameterized trial solution, or \"ansatz\". Chief among these methods is the Variational Quantum Eigensolver (VQE) that aims to solve for the ground state of a given Hamiltonian represented as a linear combination of Pauli terms, with an ansatz circuit where the number of parameters to optimize over is polynomial in the number of qubits.  Given that size of the full solution vector is exponential in the number of qubits, successful minimization using VQE requires, in general, additional problem specific information to define the structure of the ansatz circuit.\n",
    "\n",
    "\n",
    "Executing a VQE algorithm requires the following 3 components:\n",
    "\n",
    "   1. Hamiltonian and ansatz (problem specification)\n",
    "   2. Qiskit Runtime estimator\n",
    "   3. Classical optimizer\n",
    "   \n",
    "Although the Hamiltonian and ansatz require domain specific knowledge to construct, these details are immaterial to the Runtime, and we can execute a wide class of VQE problems in the same manner. "
   ]
  },
  {
   "attachments": {},
   "cell_type": "markdown",
   "id": "7db2e559",
   "metadata": {},
   "source": [
    "## Setup\n",
    "\n",
    "Here we import the tools needed for a VQE experiment.  The primary imports can be grouped logically into three components that correspond to the three required elements."
   ]
  },
  {
   "cell_type": "code",
   "execution_count": 1,
   "id": "a0a48442",
   "metadata": {},
   "outputs": [],
   "source": [
    "# General imports\n",
    "import time\n",
    "import numpy as np\n",
    "\n",
    "# Pre-defined ansatz circuit and operator class for Hamiltonian\n",
    "from qiskit.circuit.library import EfficientSU2\n",
    "from qiskit.quantum_info import SparsePauliOp\n",
    "\n",
    "# The IBM Qiskit Runtime\n",
    "from qiskit_ibm_runtime import QiskitRuntimeService\n",
    "from qiskit_ibm_runtime import Estimator, Session\n",
    "\n",
    "# SciPy minimizer routine\n",
    "from scipy.optimize import minimize\n",
    "\n",
    "# Plotting functions\n",
    "import matplotlib.pyplot as plt\n",
    "\n",
    "%config InlineBackend.figure_format='retina'"
   ]
  },
  {
   "cell_type": "code",
   "execution_count": null,
   "id": "b01cca7e",
   "metadata": {},
   "outputs": [],
   "source": []
  },
  {
   "attachments": {},
   "cell_type": "markdown",
   "id": "0e451b73",
   "metadata": {},
   "source": [
    "## Initialize Runtime service and select backend\n",
    "\n",
    "Here we instantiate the Runtime service that gives access to the simulator that we use in this tutorial."
   ]
  },
  {
   "cell_type": "code",
   "execution_count": 2,
   "id": "bc380c46",
   "metadata": {},
   "outputs": [],
   "source": [
    "service = QiskitRuntimeService()"
   ]
  },
  {
   "cell_type": "code",
   "execution_count": 3,
   "id": "a819d550",
   "metadata": {},
   "outputs": [],
   "source": [
    "backend = service.get_backend(\"ibmq_qasm_simulator\")"
   ]
  },
  {
   "attachments": {},
   "cell_type": "markdown",
   "id": "988ee237",
   "metadata": {},
   "source": [
    "## Problem specification\n",
    "\n",
    "Here we define the problem instance for our VQE algorithm.  Although the problem in question can come from a variety of domains, the form for execution via Runtime is the same.  Qiskit provides a convenience class for expressing Hamiltonians in Pauli form, and a collection of widely used ansatz circuits in the `qiskit.circuit.library`.\n",
    "\n",
    "Here, our example Hamiltonian is derived from a quantum chemistry problem"
   ]
  },
  {
   "cell_type": "code",
   "execution_count": 4,
   "id": "0ad66539",
   "metadata": {},
   "outputs": [],
   "source": [
    "hamiltonian = SparsePauliOp.from_list(\n",
    "    [(\"YZ\", 0.3980), (\"ZI\", -0.3980), (\"ZZ\", -0.0113), (\"XX\", 0.1810)]\n",
    ")"
   ]
  },
  {
   "attachments": {},
   "cell_type": "markdown",
   "id": "acb83d48",
   "metadata": {},
   "source": [
    "and our choice of ansatz is the `EfficientSU2` that, by default, linearly entangles qubits, making it ideal for quantum hardware with limited connectivity."
   ]
  },
  {
   "cell_type": "code",
   "execution_count": 5,
   "id": "59bffe5e",
   "metadata": {},
   "outputs": [
    {
     "data": {
      "image/png": "[encoded data removed]",
      "text/plain": [
       "<Figure size 872.572x200.667 with 1 Axes>"
      ]
     },
     "execution_count": 5,
     "metadata": {
      "image/png": {
       "height": 174,
       "width": 691
      }
     },
     "output_type": "execute_result"
    }
   ],
   "source": [
    "ansatz = EfficientSU2(hamiltonian.num_qubits)\n",
    "ansatz.draw(\"mpl\")"
   ]
  },
  {
   "attachments": {},
   "cell_type": "markdown",
   "id": "5bd1f7da",
   "metadata": {},
   "source": [
    "From the figure above we see that our ansatz circuit is defined by a vector of parameters, $\\theta_{i}$, with the total number given by:"
   ]
  },
  {
   "cell_type": "code",
   "execution_count": 6,
   "id": "aa325696",
   "metadata": {},
   "outputs": [
    {
     "data": {
      "text/plain": [
       "16"
      ]
     },
     "execution_count": 6,
     "metadata": {},
     "output_type": "execute_result"
    }
   ],
   "source": [
    "num_params = ansatz.num_parameters\n",
    "num_params"
   ]
  },
  {
   "attachments": {},
   "cell_type": "markdown",
   "id": "b4d480b3",
   "metadata": {},
   "source": [
    "## VQE cost function and minimization\n",
    "\n",
    "Like many classical optimization problems, the solution to a VQE problem can be formulated as minimization of a scalar cost function.  By definition, VQE looks to find the ground state solution to a Hamiltonian by optimizing the ansatz circuit parameters to minimize the expectation value (energy) of the Hamiltonian.  With the Runtime `Estimator` directly taking a Hamiltonian and parameterized ansatz, and returning the necessary energy, The cost function for a VQE instance is quite simple:"
   ]
  },
  {
   "cell_type": "code",
   "execution_count": 7,
   "id": "b22a1b00",
   "metadata": {},
   "outputs": [],
   "source": [
    "def cost_func(params, ansatz, hamiltonian, estimator):\n",
    "    \"\"\"Return estimate of energy from estimator\n",
    "\n",
    "    Parameters:\n",
    "        params (ndarray): Array of ansatz parameters\n",
    "        ansatz (QuantumCircuit): Parameterized ansatz circuit\n",
    "        hamiltonian (SparsePauliOp): Operator representation of Hamiltonian\n",
    "        estimator (Estimator): Estimator primitive instance\n",
    "\n",
    "    Returns:\n",
    "        float: Energy estimate\n",
    "    \"\"\"\n",
    "    energy = (\n",
    "        estimator.run(ansatz, hamiltonian, parameter_values=params).result().values[0]\n",
    "    )\n",
    "    return energy"
   ]
  },
  {
   "attachments": {},
   "cell_type": "markdown",
   "id": "179ba2c4",
   "metadata": {},
   "source": [
    "Note that, in addition to the array of optimization parameters that must be the first argument, we use additional arguments to pass the terms needed in the cost function."
   ]
  },
  {
   "attachments": {},
   "cell_type": "markdown",
   "id": "d93dd16f",
   "metadata": {},
   "source": [
    "We are now free to use a classical optimizer of our choice to minimize our cost function.  Here we use the [COBYLA routine from SciPy via the `minimize` function](https://docs.scipy.org/doc/scipy/reference/generated/scipy.optimize.minimize.html).  Note that, when running on real quantum hardware, the choice of optimizer is important as not all optimizers handle noisy cost function landscapes equally well.\n",
    "\n",
    "To begin the routine, we start by specifying a random initial set of parameters,"
   ]
  },
  {
   "cell_type": "code",
   "execution_count": 8,
   "id": "8c8989f1",
   "metadata": {},
   "outputs": [],
   "source": [
    "x0 = 2 * np.pi * np.random.random(num_params)"
   ]
  },
  {
   "attachments": {},
   "cell_type": "markdown",
   "id": "000140e1",
   "metadata": {},
   "source": [
    "and because we are sending a large number of jobs that we would like to execute together, here we use a `Session` to execute all the generated circuits in one block.  Here `args` is the standard SciPy way to supply the additional parameters needed by the cost function."
   ]
  },
  {
   "cell_type": "code",
   "execution_count": 9,
   "id": "8e73862a",
   "metadata": {},
   "outputs": [],
   "source": [
    "with Session(backend=backend):\n",
    "    estimator = Estimator(options={\"shots\": 2048})\n",
    "    res = minimize(\n",
    "        cost_func, x0, args=(ansatz, hamiltonian, estimator), method=\"cobyla\", options={'maxiter': 5}\n",
    "    )"
   ]
  },
  {
   "attachments": {},
   "cell_type": "markdown",
   "id": "a76ecd9b",
   "metadata": {},
   "source": [
    "At the terminus of this routine we have a result in the standard SciPy `OptimizeResult` format.  From this we see that it took `nfev` number of cost function evaluations to obtain the solution vector of parameter angles (`x`) that, when plugged into the ansatz circuit, yield the approximate ground state solution we were looking for."
   ]
  },
  {
   "cell_type": "code",
   "execution_count": 10,
   "id": "6c6cdb3f",
   "metadata": {},
   "outputs": [
    {
     "data": {
      "text/plain": [
       " message: Maximum number of function evaluations has been exceeded.\n",
       " success: False\n",
       "  status: 2\n",
       "     fun: -0.22641728515625004\n",
       "       x: [ 3.908e+00  4.454e+00 ...  6.823e-01  4.759e+00]\n",
       "    nfev: 5\n",
       "   maxcv: 0.0"
      ]
     },
     "execution_count": 10,
     "metadata": {},
     "output_type": "execute_result"
    }
   ],
   "source": [
    "res"
   ]
  },
  {
   "attachments": {},
   "cell_type": "markdown",
   "id": "91afc41c",
   "metadata": {},
   "source": [
    "## Adding a callback function\n",
    "\n",
    "As it stands now, we are unable to save intermediate results from the iteration process, view the value of the cost function per iteration, nor are we able to monitor the progress of the routine.  Callback functions are a standard way for users to obtain additional information about the status of an iterative algorithm.  The standard SciPy callback routine allows for returning only the interim vector at each iteration.  However, it is possible to do much more than this.  Here we show how to use a mutable object, such as a dictionary, to store the current vector at each iteration, for example in case we need to restart the routine due to failure, and also return the current iteration number and average time per iteration."
   ]
  },
  {
   "cell_type": "code",
   "execution_count": 11,
   "id": "3b2f5808",
   "metadata": {},
   "outputs": [],
   "source": [
    "def build_callback(ansatz, hamiltonian, estimator, callback_dict):\n",
    "    \"\"\"Return callback function that uses Estimator instance,\n",
    "    and stores intermediate values into a dictionary.\n",
    "\n",
    "    Parameters:\n",
    "        ansatz (QuantumCircuit): Parameterized ansatz circuit\n",
    "        hamiltonian (SparsePauliOp): Operator representation of Hamiltonian\n",
    "        estimator (Estimator): Estimator primitive instance\n",
    "        callback_dict (dict): Mutable dict for storing values\n",
    "\n",
    "    Returns:\n",
    "        Callable: Callback function object\n",
    "    \"\"\"\n",
    "\n",
    "    def callback(current_vector):\n",
    "        \"\"\"Callback function storing previous solution vector,\n",
    "        computing the intermediate cost value, and displaying number\n",
    "        of completed iterations and average time per iteration.\n",
    "\n",
    "        Values are stored in pre-defined 'callback_dict' dictionary.\n",
    "\n",
    "        Parameters:\n",
    "            current_vector (ndarray): Current vector of parameters\n",
    "                                      returned by optimizer\n",
    "        \"\"\"\n",
    "        # Keep track of the number of iterations\n",
    "        callback_dict[\"iters\"] += 1\n",
    "        # Set the prev_vector to the latest one\n",
    "        callback_dict[\"prev_vector\"] = current_vector\n",
    "        # Compute the value of the cost function at the current vector\n",
    "        callback_dict[\"cost_history\"].append(\n",
    "            estimator.run(ansatz, hamiltonian, parameter_values=current_vector)\n",
    "            .result()\n",
    "            .values[0]\n",
    "        )\n",
    "        # Grab the current time\n",
    "        current_time = time.perf_counter()\n",
    "        # Find the total time of the execute (after the 1st iteration)\n",
    "        if callback_dict[\"iters\"] > 1:\n",
    "            callback_dict[\"_total_time\"] += current_time - callback_dict[\"_prev_time\"]\n",
    "        # Set the previous time to the current time\n",
    "        callback_dict[\"_prev_time\"] = current_time\n",
    "        # Compute the average time per iteration and round it\n",
    "        time_str = (\n",
    "            round(callback_dict[\"_total_time\"] / (callback_dict[\"iters\"] - 1), 2)\n",
    "            if callback_dict[\"_total_time\"]\n",
    "            else \"-\"\n",
    "        )\n",
    "        # Print to screen on single line\n",
    "        print(\n",
    "            \"Iters. done: {} [Avg. time per iter: {}]\".format(\n",
    "                callback_dict[\"iters\"], time_str\n",
    "            ),\n",
    "            end=\"\\r\",\n",
    "            flush=True,\n",
    "        )\n",
    "\n",
    "    return callback"
   ]
  },
  {
   "attachments": {},
   "cell_type": "markdown",
   "id": "3ef59697",
   "metadata": {},
   "source": [
    "We can now repeat the experiment setting the `callback` argument in `minimize` with our function:"
   ]
  },
  {
   "cell_type": "code",
   "execution_count": 12,
   "id": "9f705072",
   "metadata": {},
   "outputs": [],
   "source": [
    "callback_dict = {\n",
    "    \"prev_vector\": None,\n",
    "    \"iters\": 0,\n",
    "    \"cost_history\": [],\n",
    "    \"_total_time\": 0,\n",
    "    \"_prev_time\": None,\n",
    "}"
   ]
  },
  {
   "cell_type": "code",
   "execution_count": 13,
   "id": "e642648e",
   "metadata": {},
   "outputs": [
    {
     "name": "stdout",
     "output_type": "stream",
     "text": [
      "Iters. done: 5 [Avg. time per iter: 15.65]\r"
     ]
    }
   ],
   "source": [
    "with Session(backend=backend):\n",
    "    estimator = Estimator(options={\"shots\": 2048})\n",
    "    callback = build_callback(ansatz, hamiltonian, estimator, callback_dict)\n",
    "    res = minimize(\n",
    "        cost_func,\n",
    "        x0,\n",
    "        args=(ansatz, hamiltonian, estimator),\n",
    "        method=\"cobyla\",\n",
    "        callback=callback,\n",
    "        options={'maxiter': res.nfev}\n",
    "    )"
   ]
  },
  {
   "attachments": {},
   "cell_type": "markdown",
   "id": "733431ad",
   "metadata": {},
   "source": [
    "If the procedure terminates correctly, then the `prev_vector` and `iters` values in our `callback_dict` dictionary should be equal to the solution vector and total number of function evaluations, respectively.  This is easy to verify:"
   ]
  },
  {
   "cell_type": "code",
   "execution_count": 14,
   "id": "30630583",
   "metadata": {},
   "outputs": [
    {
     "data": {
      "text/plain": [
       "True"
      ]
     },
     "execution_count": 14,
     "metadata": {},
     "output_type": "execute_result"
    }
   ],
   "source": [
    "all(callback_dict[\"prev_vector\"] == res.x)"
   ]
  },
  {
   "cell_type": "code",
   "execution_count": 15,
   "id": "1593ccbb",
   "metadata": {},
   "outputs": [
    {
     "data": {
      "text/plain": [
       " message: Maximum number of function evaluations has been exceeded.\n",
       " success: False\n",
       "  status: 2\n",
       "     fun: -0.24148583984375002\n",
       "       x: [ 3.908e+00  4.454e+00 ...  6.823e-01  4.759e+00]\n",
       "    nfev: 4\n",
       "   maxcv: 0.0"
      ]
     },
     "execution_count": 15,
     "metadata": {},
     "output_type": "execute_result"
    }
   ],
   "source": [
    "res"
   ]
  },
  {
   "cell_type": "code",
   "execution_count": 16,
   "id": "73841307",
   "metadata": {},
   "outputs": [
    {
     "data": {
      "text/plain": [
       "array([3.90811858, 4.45439732, 4.72689654, 4.96449287, 0.12149595,\n",
       "       0.71898285, 1.58370316, 1.36259411, 3.74039354, 0.33187743,\n",
       "       0.42530617, 2.2563947 , 5.2352951 , 1.70082536, 0.68225948,\n",
       "       4.75872916])"
      ]
     },
     "execution_count": 16,
     "metadata": {},
     "output_type": "execute_result"
    }
   ],
   "source": [
    "res.x"
   ]
  },
  {
   "cell_type": "code",
   "execution_count": 17,
   "id": "7938a9e3",
   "metadata": {},
   "outputs": [
    {
     "name": "stdout",
     "output_type": "stream",
     "text": [
      "[3.90811858 4.45439732 4.72689654 4.96449287 0.12149595 0.71898285\n",
      " 1.58370316 1.36259411 3.74039354 0.33187743 0.42530617 2.2563947\n",
      " 5.2352951  1.70082536 0.68225948 4.75872916]\n"
     ]
    }
   ],
   "source": [
    "print(callback_dict[\"prev_vector\"])"
   ]
  },
  {
   "cell_type": "code",
   "execution_count": 18,
   "id": "72ae1d21",
   "metadata": {},
   "outputs": [
    {
     "data": {
      "text/plain": [
       "False"
      ]
     },
     "execution_count": 18,
     "metadata": {},
     "output_type": "execute_result"
    }
   ],
   "source": [
    "callback_dict[\"iters\"] == res.nfev"
   ]
  },
  {
   "attachments": {},
   "cell_type": "markdown",
   "id": "19459b48",
   "metadata": {},
   "source": [
    "We can also now view the progress towards convergence as monitored by the cost history at each iteration:"
   ]
  },
  {
   "cell_type": "code",
   "execution_count": 19,
   "id": "8501d609",
   "metadata": {},
   "outputs": [
    {
     "data": {
      "image/png": "[encoded data removed]",
      "text/plain": [
       "<Figure size 640x480 with 1 Axes>"
      ]
     },
     "metadata": {
      "image/png": {
       "height": 432,
       "width": 579
      }
     },
     "output_type": "display_data"
    }
   ],
   "source": [
    "fig, ax = plt.subplots()\n",
    "ax.plot(range(callback_dict[\"iters\"]), callback_dict[\"cost_history\"])\n",
    "ax.set_xlabel(\"Iterations\")\n",
    "ax.set_ylabel(\"Cost\");"
   ]
  },
  {
   "cell_type": "code",
   "execution_count": null,
   "id": "19f8dc38",
   "metadata": {},
   "outputs": [],
   "source": [
    "import qiskit.tools.jupyter\n",
    "\n",
    "%qiskit_version_table\n",
    "%qiskit_copyright"
   ]
  },
  {
   "cell_type": "code",
   "execution_count": null,
   "id": "2f65e819",
   "metadata": {},
   "outputs": [],
   "source": []
  }
 ],
 "metadata": {
  "kernelspec": {
   "display_name": "Python 3 (ipykernel)",
   "language": "python",
   "name": "python3"
  },
  "language_info": {
   "codemirror_mode": {
    "name": "ipython",
    "version": 3
   },
   "file_extension": ".py",
   "mimetype": "text/x-python",
   "name": "python",
   "nbconvert_exporter": "python",
   "pygments_lexer": "ipython3",
   "version": "3.11.4"
  }
 },
 "nbformat": 4,
 "nbformat_minor": 5
}
