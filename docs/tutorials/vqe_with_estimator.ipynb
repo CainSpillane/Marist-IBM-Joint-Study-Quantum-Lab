{
 "cells": [
  {
   "attachments": {},
   "cell_type": "markdown",
   "id": "224fc5e2",
   "metadata": {},
   "source": [
    "# VQE using Estimator primitive and Sessions"
   ]
  },
  {
   "attachments": {},
   "cell_type": "markdown",
   "id": "a6f69b77",
   "metadata": {},
   "source": [
    "## Background\n",
    "\n",
    "[Variational quantum algorithms](https://arxiv.org/abs/2012.09265) are promising candidate hybrid-algorithms for observing the utility of quantum computation on noisy near-term devices. Variational algorithms are characterized by the use of a classical optimization algorithm to iteratively update a parameterized trial solution, or \"ansatz\". Chief among these methods is the Variational Quantum Eigensolver (VQE) that aims to solve for the ground state of a given Hamiltonian represented as a linear combination of Pauli terms, with an ansatz circuit where the number of parameters to optimize over is polynomial in the number of qubits.  Given that size of the full solution vector is exponential in the number of qubits, successful minimization using VQE requires, in general, additional problem specific information to define the structure of the ansatz circuit.\n",
    "\n",
    "\n",
    "Executing a VQE algorithm requires the following 3 components:\n",
    "\n",
    "   1. Hamiltonian and ansatz (problem specification)\n",
    "   2. Qiskit Runtime estimator\n",
    "   3. Classical optimizer\n",
    "   \n",
    "Although the Hamiltonian and ansatz require domain specific knowledge to construct, these details are immaterial to the Runtime, and we can execute a wide class of VQE problems in the same manner. "
   ]
  },
  {
   "attachments": {},
   "cell_type": "markdown",
   "id": "7db2e559",
   "metadata": {},
   "source": [
    "## Setup\n",
    "\n",
    "Here we import the tools needed for a VQE experiment.  The primary imports can be grouped logically into three components that correspond to the three required elements."
   ]
  },
  {
   "cell_type": "code",
   "execution_count": 1,
   "id": "a0a48442",
   "metadata": {},
   "outputs": [],
   "source": [
    "# General imports\n",
    "import time\n",
    "import numpy as np\n",
    "\n",
    "# Pre-defined ansatz circuit and operator class for Hamiltonian\n",
    "from qiskit.circuit.library import EfficientSU2\n",
    "from qiskit.quantum_info import SparsePauliOp\n",
    "\n",
    "# The IBM Qiskit Runtime\n",
    "from qiskit_ibm_runtime import QiskitRuntimeService\n",
    "from qiskit_ibm_runtime import Estimator, Session\n",
    "\n",
    "# SciPy minimizer routine\n",
    "from scipy.optimize import minimize\n",
    "\n",
    "# Plotting functions\n",
    "import matplotlib.pyplot as plt\n",
    "\n",
    "%config InlineBackend.figure_format='retina'"
   ]
  },
  {
   "attachments": {},
   "cell_type": "markdown",
   "id": "0e451b73",
   "metadata": {},
   "source": [
    "## Initialize Runtime service and select backend\n",
    "\n",
    "Here we instantiate the Runtime service that gives access to the simulator that we use in this tutorial."
   ]
  },
  {
   "cell_type": "code",
   "execution_count": 2,
   "id": "bc380c46",
   "metadata": {},
   "outputs": [],
   "source": [
    "service = QiskitRuntimeService()"
   ]
  },
  {
   "cell_type": "code",
   "execution_count": 3,
   "id": "a819d550",
   "metadata": {},
   "outputs": [],
   "source": [
    "backend = service.get_backend(\"ibmq_qasm_simulator\")"
   ]
  },
  {
   "attachments": {},
   "cell_type": "markdown",
   "id": "988ee237",
   "metadata": {},
   "source": [
    "## Problem specification\n",
    "\n",
    "Here we define the problem instance for our VQE algorithm.  Although the problem in question can come from a variety of domains, the form for execution via Runtime is the same.  Qiskit provides a convenience class for expressing Hamiltonians in Pauli form, and a collection of widely used ansatz circuits in the `qiskit.circuit.library`.\n",
    "\n",
    "Here, our example Hamiltonian is derived from a quantum chemistry problem"
   ]
  },
  {
   "cell_type": "code",
   "execution_count": 4,
   "id": "0ad66539",
   "metadata": {},
   "outputs": [],
   "source": [
    "hamiltonian = SparsePauliOp.from_list(\n",
    "    [(\"YZ\", 0.3980), (\"ZI\", -0.3980), (\"ZZ\", -0.0113), (\"XX\", 0.1810)]\n",
    ")"
   ]
  },
  {
   "attachments": {},
   "cell_type": "markdown",
   "id": "acb83d48",
   "metadata": {},
   "source": [
    "and our choice of ansatz is the `EfficientSU2` that, by default, linearly entangles qubits, making it ideal for quantum hardware with limited connectivity."
   ]
  },
  {
   "cell_type": "code",
   "execution_count": 5,
   "id": "59bffe5e",
   "metadata": {},
   "outputs": [
    {
     "data": {
      "image/png": "[encoded data removed]",
      "text/plain": [
       "<Figure size 872.572x200.667 with 1 Axes>"
      ]
     },
     "execution_count": 5,
     "metadata": {
      "image/png": {
       "height": 174,
       "width": 691
      }
     },
     "output_type": "execute_result"
    }
   ],
   "source": [
    "ansatz = EfficientSU2(hamiltonian.num_qubits)\n",
    "ansatz.draw(\"mpl\")"
   ]
  },
  {
   "attachments": {},
   "cell_type": "markdown",
   "id": "5bd1f7da",
   "metadata": {},
   "source": [
    "From the figure above we see that our ansatz circuit is defined by a vector of parameters, $\\theta_{i}$, with the total number given by:"
   ]
  },
  {
   "cell_type": "code",
   "execution_count": 6,
   "id": "aa325696",
   "metadata": {},
   "outputs": [
    {
     "data": {
      "text/plain": [
       "16"
      ]
     },
     "execution_count": 6,
     "metadata": {},
     "output_type": "execute_result"
    }
   ],
   "source": [
    "num_params = ansatz.num_parameters\n",
    "num_params"
   ]
  },
  {
   "attachments": {},
   "cell_type": "markdown",
   "id": "b4d480b3",
   "metadata": {},
   "source": [
    "## VQE cost function and minimization\n",
    "\n",
    "Like many classical optimization problems, the solution to a VQE problem can be formulated as minimization of a scalar cost function.  By definition, VQE looks to find the ground state solution to a Hamiltonian by optimizing the ansatz circuit parameters to minimize the expectation value (energy) of the Hamiltonian.  With the Runtime `Estimator` directly taking a Hamiltonian and parameterized ansatz, and returning the necessary energy, The cost function for a VQE instance is quite simple:"
   ]
  },
  {
   "cell_type": "code",
   "execution_count": 8,
   "id": "b22a1b00",
   "metadata": {},
   "outputs": [],
   "source": [
    "def cost_func(params, ansatz, hamiltonian, estimator):\n",
    "    \"\"\"Return estimate of energy from estimator\n",
    "\n",
    "    Parameters:\n",
    "        params (ndarray): Array of ansatz parameters\n",
    "        ansatz (QuantumCircuit): Parameterized ansatz circuit\n",
    "        hamiltonian (SparsePauliOp): Operator representation of Hamiltonian\n",
    "        estimator (Estimator): Estimator primitive instance\n",
    "\n",
    "    Returns:\n",
    "        float: Energy estimate\n",
    "    \"\"\"\n",
    "    energy = (\n",
    "        estimator.run(ansatz, hamiltonian, parameter_values=params).result().values[0]\n",
    "    )\n",
    "    return energy"
   ]
  },
  {
   "attachments": {},
   "cell_type": "markdown",
   "id": "179ba2c4",
   "metadata": {},
   "source": [
    "Note that, in addition to the array of optimization parameters that must be the first argument, we use additional arguments to pass the terms needed in the cost function."
   ]
  },
  {
   "attachments": {},
   "cell_type": "markdown",
   "id": "d93dd16f",
   "metadata": {},
   "source": [
    "We are now free to use a classical optimizer of our choice to minimize our cost function.  Here we use the [COBYLA routine from SciPy via the `minimize` function](https://docs.scipy.org/doc/scipy/reference/generated/scipy.optimize.minimize.html).  Note that, when running on real quantum hardware, the choice of optimizer is important as not all optimizers handle noisy cost function landscapes equally well.\n",
    "\n",
    "To begin the routine, we start by specifying a random initial set of parameters,"
   ]
  },
  {
   "cell_type": "code",
   "execution_count": 9,
   "id": "8c8989f1",
   "metadata": {},
   "outputs": [],
   "source": [
    "x0 = 2 * np.pi * np.random.random(num_params)"
   ]
  },
  {
   "attachments": {},
   "cell_type": "markdown",
   "id": "000140e1",
   "metadata": {},
   "source": [
    "and because we are sending a large number of jobs that we would like to execute together, here we use a `Session` to execute all the generated circuits in one block.  Here `args` is the standard SciPy way to supply the additional parameters needed by the cost function."
   ]
  },
  {
   "cell_type": "code",
   "execution_count": 10,
   "id": "8e73862a",
   "metadata": {},
   "outputs": [
    {
     "ename": "KeyboardInterrupt",
     "evalue": "",
     "output_type": "error",
     "traceback": [
      "\u001b[1;31m---------------------------------------------------------------------------\u001b[0m",
      "\u001b[1;31mKeyboardInterrupt\u001b[0m                         Traceback (most recent call last)",
      "Cell \u001b[1;32mIn[10], line 3\u001b[0m\n\u001b[0;32m      1\u001b[0m \u001b[39mwith\u001b[39;00m Session(backend\u001b[39m=\u001b[39mbackend):\n\u001b[0;32m      2\u001b[0m     estimator \u001b[39m=\u001b[39m Estimator(options\u001b[39m=\u001b[39m{\u001b[39m\"\u001b[39m\u001b[39mshots\u001b[39m\u001b[39m\"\u001b[39m: \u001b[39mint\u001b[39m(\u001b[39m1e4\u001b[39m)})\n\u001b[1;32m----> 3\u001b[0m     res \u001b[39m=\u001b[39m minimize(\n\u001b[0;32m      4\u001b[0m         cost_func, x0, args\u001b[39m=\u001b[39;49m(ansatz, hamiltonian, estimator), method\u001b[39m=\u001b[39;49m\u001b[39m\"\u001b[39;49m\u001b[39mcobyla\u001b[39;49m\u001b[39m\"\u001b[39;49m\n\u001b[0;32m      5\u001b[0m     )\n",
      "File \u001b[1;32mc:\\Users\\spill\\AppData\\Local\\Programs\\Python\\Python311\\Lib\\site-packages\\scipy\\optimize\\_minimize.py:702\u001b[0m, in \u001b[0;36mminimize\u001b[1;34m(fun, x0, args, method, jac, hess, hessp, bounds, constraints, tol, callback, options)\u001b[0m\n\u001b[0;32m    699\u001b[0m     res \u001b[39m=\u001b[39m _minimize_tnc(fun, x0, args, jac, bounds, callback\u001b[39m=\u001b[39mcallback,\n\u001b[0;32m    700\u001b[0m                         \u001b[39m*\u001b[39m\u001b[39m*\u001b[39moptions)\n\u001b[0;32m    701\u001b[0m \u001b[39melif\u001b[39;00m meth \u001b[39m==\u001b[39m \u001b[39m'\u001b[39m\u001b[39mcobyla\u001b[39m\u001b[39m'\u001b[39m:\n\u001b[1;32m--> 702\u001b[0m     res \u001b[39m=\u001b[39m _minimize_cobyla(fun, x0, args, constraints, callback\u001b[39m=\u001b[39;49mcallback,\n\u001b[0;32m    703\u001b[0m                             \u001b[39m*\u001b[39;49m\u001b[39m*\u001b[39;49moptions)\n\u001b[0;32m    704\u001b[0m \u001b[39melif\u001b[39;00m meth \u001b[39m==\u001b[39m \u001b[39m'\u001b[39m\u001b[39mslsqp\u001b[39m\u001b[39m'\u001b[39m:\n\u001b[0;32m    705\u001b[0m     res \u001b[39m=\u001b[39m _minimize_slsqp(fun, x0, args, jac, bounds,\n\u001b[0;32m    706\u001b[0m                           constraints, callback\u001b[39m=\u001b[39mcallback, \u001b[39m*\u001b[39m\u001b[39m*\u001b[39moptions)\n",
      "File \u001b[1;32mc:\\Users\\spill\\AppData\\Local\\Programs\\Python\\Python311\\Lib\\site-packages\\scipy\\optimize\\_cobyla_py.py:34\u001b[0m, in \u001b[0;36msynchronized.<locals>.wrapper\u001b[1;34m(*args, **kwargs)\u001b[0m\n\u001b[0;32m     31\u001b[0m \u001b[39m@functools\u001b[39m\u001b[39m.\u001b[39mwraps(func)\n\u001b[0;32m     32\u001b[0m \u001b[39mdef\u001b[39;00m \u001b[39mwrapper\u001b[39m(\u001b[39m*\u001b[39margs, \u001b[39m*\u001b[39m\u001b[39m*\u001b[39mkwargs):\n\u001b[0;32m     33\u001b[0m     \u001b[39mwith\u001b[39;00m _module_lock:\n\u001b[1;32m---> 34\u001b[0m         \u001b[39mreturn\u001b[39;00m func(\u001b[39m*\u001b[39;49margs, \u001b[39m*\u001b[39;49m\u001b[39m*\u001b[39;49mkwargs)\n",
      "File \u001b[1;32mc:\\Users\\spill\\AppData\\Local\\Programs\\Python\\Python311\\Lib\\site-packages\\scipy\\optimize\\_cobyla_py.py:270\u001b[0m, in \u001b[0;36m_minimize_cobyla\u001b[1;34m(fun, x0, args, constraints, rhobeg, tol, maxiter, disp, catol, callback, **unknown_options)\u001b[0m\n\u001b[0;32m    267\u001b[0m         callback(np\u001b[39m.\u001b[39mcopy(x))\n\u001b[0;32m    269\u001b[0m info \u001b[39m=\u001b[39m np\u001b[39m.\u001b[39mzeros(\u001b[39m4\u001b[39m, np\u001b[39m.\u001b[39mfloat64)\n\u001b[1;32m--> 270\u001b[0m xopt, info \u001b[39m=\u001b[39m cobyla\u001b[39m.\u001b[39;49mminimize(calcfc, m\u001b[39m=\u001b[39;49mm, x\u001b[39m=\u001b[39;49mnp\u001b[39m.\u001b[39;49mcopy(x0), rhobeg\u001b[39m=\u001b[39;49mrhobeg,\n\u001b[0;32m    271\u001b[0m                               rhoend\u001b[39m=\u001b[39;49mrhoend, iprint\u001b[39m=\u001b[39;49miprint, maxfun\u001b[39m=\u001b[39;49mmaxfun,\n\u001b[0;32m    272\u001b[0m                               dinfo\u001b[39m=\u001b[39;49minfo, callback\u001b[39m=\u001b[39;49mwrapped_callback)\n\u001b[0;32m    274\u001b[0m \u001b[39mif\u001b[39;00m info[\u001b[39m3\u001b[39m] \u001b[39m>\u001b[39m catol:\n\u001b[0;32m    275\u001b[0m     \u001b[39m# Check constraint violation\u001b[39;00m\n\u001b[0;32m    276\u001b[0m     info[\u001b[39m0\u001b[39m] \u001b[39m=\u001b[39m \u001b[39m4\u001b[39m\n",
      "File \u001b[1;32mc:\\Users\\spill\\AppData\\Local\\Programs\\Python\\Python311\\Lib\\site-packages\\scipy\\optimize\\_cobyla_py.py:258\u001b[0m, in \u001b[0;36m_minimize_cobyla.<locals>.calcfc\u001b[1;34m(x, con)\u001b[0m\n\u001b[0;32m    257\u001b[0m \u001b[39mdef\u001b[39;00m \u001b[39mcalcfc\u001b[39m(x, con):\n\u001b[1;32m--> 258\u001b[0m     f \u001b[39m=\u001b[39m fun(np\u001b[39m.\u001b[39;49mcopy(x), \u001b[39m*\u001b[39;49margs)\n\u001b[0;32m    259\u001b[0m     i \u001b[39m=\u001b[39m \u001b[39m0\u001b[39m\n\u001b[0;32m    260\u001b[0m     \u001b[39mfor\u001b[39;00m size, c \u001b[39min\u001b[39;00m izip(cons_lengths, constraints):\n",
      "Cell \u001b[1;32mIn[8], line 14\u001b[0m, in \u001b[0;36mcost_func\u001b[1;34m(params, ansatz, hamiltonian, estimator)\u001b[0m\n\u001b[0;32m      1\u001b[0m \u001b[39mdef\u001b[39;00m \u001b[39mcost_func\u001b[39m(params, ansatz, hamiltonian, estimator):\n\u001b[0;32m      2\u001b[0m \u001b[39m    \u001b[39m\u001b[39m\"\"\"Return estimate of energy from estimator\u001b[39;00m\n\u001b[0;32m      3\u001b[0m \n\u001b[0;32m      4\u001b[0m \u001b[39m    Parameters:\u001b[39;00m\n\u001b[1;32m   (...)\u001b[0m\n\u001b[0;32m     11\u001b[0m \u001b[39m        float: Energy estimate\u001b[39;00m\n\u001b[0;32m     12\u001b[0m \u001b[39m    \"\"\"\u001b[39;00m\n\u001b[0;32m     13\u001b[0m     energy \u001b[39m=\u001b[39m (\n\u001b[1;32m---> 14\u001b[0m         estimator\u001b[39m.\u001b[39;49mrun(ansatz, hamiltonian, parameter_values\u001b[39m=\u001b[39;49mparams)\u001b[39m.\u001b[39;49mresult()\u001b[39m.\u001b[39mvalues[\u001b[39m0\u001b[39m]\n\u001b[0;32m     15\u001b[0m     )\n\u001b[0;32m     16\u001b[0m     \u001b[39mreturn\u001b[39;00m energy\n",
      "File \u001b[1;32mc:\\Users\\spill\\AppData\\Local\\Programs\\Python\\Python311\\Lib\\site-packages\\qiskit_ibm_runtime\\runtime_job.py:222\u001b[0m, in \u001b[0;36mRuntimeJob.result\u001b[1;34m(self, timeout, decoder)\u001b[0m\n\u001b[0;32m    220\u001b[0m _decoder \u001b[39m=\u001b[39m decoder \u001b[39mor\u001b[39;00m \u001b[39mself\u001b[39m\u001b[39m.\u001b[39m_final_result_decoder\n\u001b[0;32m    221\u001b[0m \u001b[39mif\u001b[39;00m \u001b[39mself\u001b[39m\u001b[39m.\u001b[39m_results \u001b[39mis\u001b[39;00m \u001b[39mNone\u001b[39;00m \u001b[39mor\u001b[39;00m (_decoder \u001b[39m!=\u001b[39m \u001b[39mself\u001b[39m\u001b[39m.\u001b[39m_final_result_decoder):\n\u001b[1;32m--> 222\u001b[0m     \u001b[39mself\u001b[39;49m\u001b[39m.\u001b[39;49mwait_for_final_state(timeout\u001b[39m=\u001b[39;49mtimeout)\n\u001b[0;32m    223\u001b[0m     \u001b[39mif\u001b[39;00m \u001b[39mself\u001b[39m\u001b[39m.\u001b[39m_status \u001b[39m==\u001b[39m JobStatus\u001b[39m.\u001b[39mERROR:\n\u001b[0;32m    224\u001b[0m         error_message \u001b[39m=\u001b[39m \u001b[39mself\u001b[39m\u001b[39m.\u001b[39m_reason \u001b[39mif\u001b[39;00m \u001b[39mself\u001b[39m\u001b[39m.\u001b[39m_reason \u001b[39melse\u001b[39;00m \u001b[39mself\u001b[39m\u001b[39m.\u001b[39m_error_message\n",
      "File \u001b[1;32mc:\\Users\\spill\\AppData\\Local\\Programs\\Python\\Python311\\Lib\\site-packages\\qiskit_ibm_runtime\\runtime_job.py:311\u001b[0m, in \u001b[0;36mRuntimeJob.wait_for_final_state\u001b[1;34m(self, timeout)\u001b[0m\n\u001b[0;32m    307\u001b[0m     \u001b[39mself\u001b[39m\u001b[39m.\u001b[39m_ws_client_future \u001b[39m=\u001b[39m \u001b[39mself\u001b[39m\u001b[39m.\u001b[39m_executor\u001b[39m.\u001b[39msubmit(\n\u001b[0;32m    308\u001b[0m         \u001b[39mself\u001b[39m\u001b[39m.\u001b[39m_start_websocket_client\n\u001b[0;32m    309\u001b[0m     )\n\u001b[0;32m    310\u001b[0m \u001b[39mif\u001b[39;00m \u001b[39mself\u001b[39m\u001b[39m.\u001b[39m_is_streaming():\n\u001b[1;32m--> 311\u001b[0m     \u001b[39mself\u001b[39;49m\u001b[39m.\u001b[39;49m_ws_client_future\u001b[39m.\u001b[39;49mresult(timeout)\n\u001b[0;32m    312\u001b[0m \u001b[39m# poll for status after stream has closed until status is final\u001b[39;00m\n\u001b[0;32m    313\u001b[0m \u001b[39m# because status doesn't become final as soon as stream closes\u001b[39;00m\n\u001b[0;32m    314\u001b[0m status \u001b[39m=\u001b[39m \u001b[39mself\u001b[39m\u001b[39m.\u001b[39mstatus()\n",
      "File \u001b[1;32mc:\\Users\\spill\\AppData\\Local\\Programs\\Python\\Python311\\Lib\\concurrent\\futures\\_base.py:451\u001b[0m, in \u001b[0;36mFuture.result\u001b[1;34m(self, timeout)\u001b[0m\n\u001b[0;32m    448\u001b[0m \u001b[39melif\u001b[39;00m \u001b[39mself\u001b[39m\u001b[39m.\u001b[39m_state \u001b[39m==\u001b[39m FINISHED:\n\u001b[0;32m    449\u001b[0m     \u001b[39mreturn\u001b[39;00m \u001b[39mself\u001b[39m\u001b[39m.\u001b[39m__get_result()\n\u001b[1;32m--> 451\u001b[0m \u001b[39mself\u001b[39;49m\u001b[39m.\u001b[39;49m_condition\u001b[39m.\u001b[39;49mwait(timeout)\n\u001b[0;32m    453\u001b[0m \u001b[39mif\u001b[39;00m \u001b[39mself\u001b[39m\u001b[39m.\u001b[39m_state \u001b[39min\u001b[39;00m [CANCELLED, CANCELLED_AND_NOTIFIED]:\n\u001b[0;32m    454\u001b[0m     \u001b[39mraise\u001b[39;00m CancelledError()\n",
      "File \u001b[1;32mc:\\Users\\spill\\AppData\\Local\\Programs\\Python\\Python311\\Lib\\threading.py:320\u001b[0m, in \u001b[0;36mCondition.wait\u001b[1;34m(self, timeout)\u001b[0m\n\u001b[0;32m    318\u001b[0m \u001b[39mtry\u001b[39;00m:    \u001b[39m# restore state no matter what (e.g., KeyboardInterrupt)\u001b[39;00m\n\u001b[0;32m    319\u001b[0m     \u001b[39mif\u001b[39;00m timeout \u001b[39mis\u001b[39;00m \u001b[39mNone\u001b[39;00m:\n\u001b[1;32m--> 320\u001b[0m         waiter\u001b[39m.\u001b[39;49macquire()\n\u001b[0;32m    321\u001b[0m         gotit \u001b[39m=\u001b[39m \u001b[39mTrue\u001b[39;00m\n\u001b[0;32m    322\u001b[0m     \u001b[39melse\u001b[39;00m:\n",
      "\u001b[1;31mKeyboardInterrupt\u001b[0m: "
     ]
    }
   ],
   "source": [
    "with Session(backend=backend):\n",
    "    estimator = Estimator(options={\"shots\": int(1e4)})\n",
    "    res = minimize(\n",
    "        cost_func, x0, args=(ansatz, hamiltonian, estimator), method=\"cobyla\"\n",
    "    )"
   ]
  },
  {
   "attachments": {},
   "cell_type": "markdown",
   "id": "a76ecd9b",
   "metadata": {},
   "source": [
    "At the terminus of this routine we have a result in the standard SciPy `OptimizeResult` format.  From this we see that it took `nfev` number of cost function evaluations to obtain the solution vector of parameter angles (`x`) that, when plugged into the ansatz circuit, yield the approximate ground state solution we were looking for."
   ]
  },
  {
   "cell_type": "code",
   "execution_count": 11,
   "id": "6c6cdb3f",
   "metadata": {},
   "outputs": [
    {
     "ename": "NameError",
     "evalue": "name 'res' is not defined",
     "output_type": "error",
     "traceback": [
      "\u001b[1;31m---------------------------------------------------------------------------\u001b[0m",
      "\u001b[1;31mNameError\u001b[0m                                 Traceback (most recent call last)",
      "Cell \u001b[1;32mIn[11], line 1\u001b[0m\n\u001b[1;32m----> 1\u001b[0m res\n",
      "\u001b[1;31mNameError\u001b[0m: name 'res' is not defined"
     ]
    }
   ],
   "source": [
    "res"
   ]
  },
  {
   "attachments": {},
   "cell_type": "markdown",
   "id": "91afc41c",
   "metadata": {},
   "source": [
    "## Adding a callback function\n",
    "\n",
    "As it stands now, we are unable to save intermediate results from the iteration process, view the value of the cost function per iteration, nor are we able to monitor the progress of the routine.  Callback functions are a standard way for users to obtain additional information about the status of an iterative algorithm.  The standard SciPy callback routine allows for returning only the interim vector at each iteration.  However, it is possible to do much more than this.  Here we show how to use a mutable object, such as a dictionary, to store the current vector at each iteration, for example in case we need to restart the routine due to failure, and also return the current iteration number and average time per iteration."
   ]
  },
  {
   "cell_type": "code",
   "execution_count": 12,
   "id": "3b2f5808",
   "metadata": {},
   "outputs": [],
   "source": [
    "def build_callback(ansatz, hamiltonian, estimator, callback_dict):\n",
    "    \"\"\"Return callback function that uses Estimator instance,\n",
    "    and stores intermediate values into a dictionary.\n",
    "\n",
    "    Parameters:\n",
    "        ansatz (QuantumCircuit): Parameterized ansatz circuit\n",
    "        hamiltonian (SparsePauliOp): Operator representation of Hamiltonian\n",
    "        estimator (Estimator): Estimator primitive instance\n",
    "        callback_dict (dict): Mutable dict for storing values\n",
    "\n",
    "    Returns:\n",
    "        Callable: Callback function object\n",
    "    \"\"\"\n",
    "\n",
    "    def callback(current_vector):\n",
    "        \"\"\"Callback function storing previous solution vector,\n",
    "        computing the intermediate cost value, and displaying number\n",
    "        of completed iterations and average time per iteration.\n",
    "\n",
    "        Values are stored in pre-defined 'callback_dict' dictionary.\n",
    "\n",
    "        Parameters:\n",
    "            current_vector (ndarray): Current vector of parameters\n",
    "                                      returned by optimizer\n",
    "        \"\"\"\n",
    "        # Keep track of the number of iterations\n",
    "        callback_dict[\"iters\"] += 1\n",
    "        # Set the prev_vector to the latest one\n",
    "        callback_dict[\"prev_vector\"] = current_vector\n",
    "        # Compute the value of the cost function at the current vector\n",
    "        callback_dict[\"cost_history\"].append(\n",
    "            estimator.run(ansatz, hamiltonian, parameter_values=current_vector)\n",
    "            .result()\n",
    "            .values[0]\n",
    "        )\n",
    "        # Grab the current time\n",
    "        current_time = time.perf_counter()\n",
    "        # Find the total time of the execute (after the 1st iteration)\n",
    "        if callback_dict[\"iters\"] > 1:\n",
    "            callback_dict[\"_total_time\"] += current_time - callback_dict[\"_prev_time\"]\n",
    "        # Set the previous time to the current time\n",
    "        callback_dict[\"_prev_time\"] = current_time\n",
    "        # Compute the average time per iteration and round it\n",
    "        time_str = (\n",
    "            round(callback_dict[\"_total_time\"] / (callback_dict[\"iters\"] - 1), 2)\n",
    "            if callback_dict[\"_total_time\"]\n",
    "            else \"-\"\n",
    "        )\n",
    "        # Print to screen on single line\n",
    "        print(\n",
    "            \"Iters. done: {} [Avg. time per iter: {}]\".format(\n",
    "                callback_dict[\"iters\"], time_str\n",
    "            ),\n",
    "            end=\"\\r\",\n",
    "            flush=True,\n",
    "        )\n",
    "\n",
    "    return callback"
   ]
  },
  {
   "attachments": {},
   "cell_type": "markdown",
   "id": "3ef59697",
   "metadata": {},
   "source": [
    "We can now repeat the experiment setting the `callback` argument in `minimize` with our function:"
   ]
  },
  {
   "cell_type": "code",
   "execution_count": 13,
   "id": "9f705072",
   "metadata": {},
   "outputs": [],
   "source": [
    "callback_dict = {\n",
    "    \"prev_vector\": None,\n",
    "    \"iters\": 0,\n",
    "    \"cost_history\": [],\n",
    "    \"_total_time\": 0,\n",
    "    \"_prev_time\": None,\n",
    "}"
   ]
  },
  {
   "cell_type": "code",
   "execution_count": 14,
   "id": "e642648e",
   "metadata": {},
   "outputs": [
    {
     "name": "stdout",
     "output_type": "stream",
     "text": [
      "Iters. done: 1 [Avg. time per iter: -]\r"
     ]
    },
    {
     "ename": "KeyboardInterrupt",
     "evalue": "",
     "output_type": "error",
     "traceback": [
      "\u001b[1;31m---------------------------------------------------------------------------\u001b[0m",
      "\u001b[1;31mKeyboardInterrupt\u001b[0m                         Traceback (most recent call last)",
      "Cell \u001b[1;32mIn[14], line 4\u001b[0m\n\u001b[0;32m      2\u001b[0m estimator \u001b[39m=\u001b[39m Estimator(options\u001b[39m=\u001b[39m{\u001b[39m\"\u001b[39m\u001b[39mshots\u001b[39m\u001b[39m\"\u001b[39m: \u001b[39mint\u001b[39m(\u001b[39m1e4\u001b[39m)})\n\u001b[0;32m      3\u001b[0m callback \u001b[39m=\u001b[39m build_callback(ansatz, hamiltonian, estimator, callback_dict)\n\u001b[1;32m----> 4\u001b[0m res \u001b[39m=\u001b[39m minimize(\n\u001b[0;32m      5\u001b[0m     cost_func,\n\u001b[0;32m      6\u001b[0m     x0,\n\u001b[0;32m      7\u001b[0m     args\u001b[39m=\u001b[39;49m(ansatz, hamiltonian, estimator),\n\u001b[0;32m      8\u001b[0m     method\u001b[39m=\u001b[39;49m\u001b[39m\"\u001b[39;49m\u001b[39mcobyla\u001b[39;49m\u001b[39m\"\u001b[39;49m,\n\u001b[0;32m      9\u001b[0m     callback\u001b[39m=\u001b[39;49mcallback,\n\u001b[0;32m     10\u001b[0m )\n",
      "File \u001b[1;32mc:\\Users\\spill\\AppData\\Local\\Programs\\Python\\Python311\\Lib\\site-packages\\scipy\\optimize\\_minimize.py:702\u001b[0m, in \u001b[0;36mminimize\u001b[1;34m(fun, x0, args, method, jac, hess, hessp, bounds, constraints, tol, callback, options)\u001b[0m\n\u001b[0;32m    699\u001b[0m     res \u001b[39m=\u001b[39m _minimize_tnc(fun, x0, args, jac, bounds, callback\u001b[39m=\u001b[39mcallback,\n\u001b[0;32m    700\u001b[0m                         \u001b[39m*\u001b[39m\u001b[39m*\u001b[39moptions)\n\u001b[0;32m    701\u001b[0m \u001b[39melif\u001b[39;00m meth \u001b[39m==\u001b[39m \u001b[39m'\u001b[39m\u001b[39mcobyla\u001b[39m\u001b[39m'\u001b[39m:\n\u001b[1;32m--> 702\u001b[0m     res \u001b[39m=\u001b[39m _minimize_cobyla(fun, x0, args, constraints, callback\u001b[39m=\u001b[39;49mcallback,\n\u001b[0;32m    703\u001b[0m                             \u001b[39m*\u001b[39;49m\u001b[39m*\u001b[39;49moptions)\n\u001b[0;32m    704\u001b[0m \u001b[39melif\u001b[39;00m meth \u001b[39m==\u001b[39m \u001b[39m'\u001b[39m\u001b[39mslsqp\u001b[39m\u001b[39m'\u001b[39m:\n\u001b[0;32m    705\u001b[0m     res \u001b[39m=\u001b[39m _minimize_slsqp(fun, x0, args, jac, bounds,\n\u001b[0;32m    706\u001b[0m                           constraints, callback\u001b[39m=\u001b[39mcallback, \u001b[39m*\u001b[39m\u001b[39m*\u001b[39moptions)\n",
      "File \u001b[1;32mc:\\Users\\spill\\AppData\\Local\\Programs\\Python\\Python311\\Lib\\site-packages\\scipy\\optimize\\_cobyla_py.py:34\u001b[0m, in \u001b[0;36msynchronized.<locals>.wrapper\u001b[1;34m(*args, **kwargs)\u001b[0m\n\u001b[0;32m     31\u001b[0m \u001b[39m@functools\u001b[39m\u001b[39m.\u001b[39mwraps(func)\n\u001b[0;32m     32\u001b[0m \u001b[39mdef\u001b[39;00m \u001b[39mwrapper\u001b[39m(\u001b[39m*\u001b[39margs, \u001b[39m*\u001b[39m\u001b[39m*\u001b[39mkwargs):\n\u001b[0;32m     33\u001b[0m     \u001b[39mwith\u001b[39;00m _module_lock:\n\u001b[1;32m---> 34\u001b[0m         \u001b[39mreturn\u001b[39;00m func(\u001b[39m*\u001b[39;49margs, \u001b[39m*\u001b[39;49m\u001b[39m*\u001b[39;49mkwargs)\n",
      "File \u001b[1;32mc:\\Users\\spill\\AppData\\Local\\Programs\\Python\\Python311\\Lib\\site-packages\\scipy\\optimize\\_cobyla_py.py:270\u001b[0m, in \u001b[0;36m_minimize_cobyla\u001b[1;34m(fun, x0, args, constraints, rhobeg, tol, maxiter, disp, catol, callback, **unknown_options)\u001b[0m\n\u001b[0;32m    267\u001b[0m         callback(np\u001b[39m.\u001b[39mcopy(x))\n\u001b[0;32m    269\u001b[0m info \u001b[39m=\u001b[39m np\u001b[39m.\u001b[39mzeros(\u001b[39m4\u001b[39m, np\u001b[39m.\u001b[39mfloat64)\n\u001b[1;32m--> 270\u001b[0m xopt, info \u001b[39m=\u001b[39m cobyla\u001b[39m.\u001b[39;49mminimize(calcfc, m\u001b[39m=\u001b[39;49mm, x\u001b[39m=\u001b[39;49mnp\u001b[39m.\u001b[39;49mcopy(x0), rhobeg\u001b[39m=\u001b[39;49mrhobeg,\n\u001b[0;32m    271\u001b[0m                               rhoend\u001b[39m=\u001b[39;49mrhoend, iprint\u001b[39m=\u001b[39;49miprint, maxfun\u001b[39m=\u001b[39;49mmaxfun,\n\u001b[0;32m    272\u001b[0m                               dinfo\u001b[39m=\u001b[39;49minfo, callback\u001b[39m=\u001b[39;49mwrapped_callback)\n\u001b[0;32m    274\u001b[0m \u001b[39mif\u001b[39;00m info[\u001b[39m3\u001b[39m] \u001b[39m>\u001b[39m catol:\n\u001b[0;32m    275\u001b[0m     \u001b[39m# Check constraint violation\u001b[39;00m\n\u001b[0;32m    276\u001b[0m     info[\u001b[39m0\u001b[39m] \u001b[39m=\u001b[39m \u001b[39m4\u001b[39m\n",
      "File \u001b[1;32mc:\\Users\\spill\\AppData\\Local\\Programs\\Python\\Python311\\Lib\\site-packages\\scipy\\optimize\\_cobyla_py.py:258\u001b[0m, in \u001b[0;36m_minimize_cobyla.<locals>.calcfc\u001b[1;34m(x, con)\u001b[0m\n\u001b[0;32m    257\u001b[0m \u001b[39mdef\u001b[39;00m \u001b[39mcalcfc\u001b[39m(x, con):\n\u001b[1;32m--> 258\u001b[0m     f \u001b[39m=\u001b[39m fun(np\u001b[39m.\u001b[39;49mcopy(x), \u001b[39m*\u001b[39;49margs)\n\u001b[0;32m    259\u001b[0m     i \u001b[39m=\u001b[39m \u001b[39m0\u001b[39m\n\u001b[0;32m    260\u001b[0m     \u001b[39mfor\u001b[39;00m size, c \u001b[39min\u001b[39;00m izip(cons_lengths, constraints):\n",
      "Cell \u001b[1;32mIn[8], line 14\u001b[0m, in \u001b[0;36mcost_func\u001b[1;34m(params, ansatz, hamiltonian, estimator)\u001b[0m\n\u001b[0;32m      1\u001b[0m \u001b[39mdef\u001b[39;00m \u001b[39mcost_func\u001b[39m(params, ansatz, hamiltonian, estimator):\n\u001b[0;32m      2\u001b[0m \u001b[39m    \u001b[39m\u001b[39m\"\"\"Return estimate of energy from estimator\u001b[39;00m\n\u001b[0;32m      3\u001b[0m \n\u001b[0;32m      4\u001b[0m \u001b[39m    Parameters:\u001b[39;00m\n\u001b[1;32m   (...)\u001b[0m\n\u001b[0;32m     11\u001b[0m \u001b[39m        float: Energy estimate\u001b[39;00m\n\u001b[0;32m     12\u001b[0m \u001b[39m    \"\"\"\u001b[39;00m\n\u001b[0;32m     13\u001b[0m     energy \u001b[39m=\u001b[39m (\n\u001b[1;32m---> 14\u001b[0m         estimator\u001b[39m.\u001b[39;49mrun(ansatz, hamiltonian, parameter_values\u001b[39m=\u001b[39;49mparams)\u001b[39m.\u001b[39;49mresult()\u001b[39m.\u001b[39mvalues[\u001b[39m0\u001b[39m]\n\u001b[0;32m     15\u001b[0m     )\n\u001b[0;32m     16\u001b[0m     \u001b[39mreturn\u001b[39;00m energy\n",
      "File \u001b[1;32mc:\\Users\\spill\\AppData\\Local\\Programs\\Python\\Python311\\Lib\\site-packages\\qiskit_ibm_runtime\\runtime_job.py:222\u001b[0m, in \u001b[0;36mRuntimeJob.result\u001b[1;34m(self, timeout, decoder)\u001b[0m\n\u001b[0;32m    220\u001b[0m _decoder \u001b[39m=\u001b[39m decoder \u001b[39mor\u001b[39;00m \u001b[39mself\u001b[39m\u001b[39m.\u001b[39m_final_result_decoder\n\u001b[0;32m    221\u001b[0m \u001b[39mif\u001b[39;00m \u001b[39mself\u001b[39m\u001b[39m.\u001b[39m_results \u001b[39mis\u001b[39;00m \u001b[39mNone\u001b[39;00m \u001b[39mor\u001b[39;00m (_decoder \u001b[39m!=\u001b[39m \u001b[39mself\u001b[39m\u001b[39m.\u001b[39m_final_result_decoder):\n\u001b[1;32m--> 222\u001b[0m     \u001b[39mself\u001b[39;49m\u001b[39m.\u001b[39;49mwait_for_final_state(timeout\u001b[39m=\u001b[39;49mtimeout)\n\u001b[0;32m    223\u001b[0m     \u001b[39mif\u001b[39;00m \u001b[39mself\u001b[39m\u001b[39m.\u001b[39m_status \u001b[39m==\u001b[39m JobStatus\u001b[39m.\u001b[39mERROR:\n\u001b[0;32m    224\u001b[0m         error_message \u001b[39m=\u001b[39m \u001b[39mself\u001b[39m\u001b[39m.\u001b[39m_reason \u001b[39mif\u001b[39;00m \u001b[39mself\u001b[39m\u001b[39m.\u001b[39m_reason \u001b[39melse\u001b[39;00m \u001b[39mself\u001b[39m\u001b[39m.\u001b[39m_error_message\n",
      "File \u001b[1;32mc:\\Users\\spill\\AppData\\Local\\Programs\\Python\\Python311\\Lib\\site-packages\\qiskit_ibm_runtime\\runtime_job.py:322\u001b[0m, in \u001b[0;36mRuntimeJob.wait_for_final_state\u001b[1;34m(self, timeout)\u001b[0m\n\u001b[0;32m    318\u001b[0m             \u001b[39mraise\u001b[39;00m RuntimeJobTimeoutError(\n\u001b[0;32m    319\u001b[0m                 \u001b[39mf\u001b[39m\u001b[39m\"\u001b[39m\u001b[39mTimed out waiting for job to complete after \u001b[39m\u001b[39m{\u001b[39;00mtimeout\u001b[39m}\u001b[39;00m\u001b[39m secs.\u001b[39m\u001b[39m\"\u001b[39m\n\u001b[0;32m    320\u001b[0m             )\n\u001b[0;32m    321\u001b[0m         time\u001b[39m.\u001b[39msleep(\u001b[39m0.1\u001b[39m)\n\u001b[1;32m--> 322\u001b[0m         status \u001b[39m=\u001b[39m \u001b[39mself\u001b[39;49m\u001b[39m.\u001b[39;49mstatus()\n\u001b[0;32m    323\u001b[0m \u001b[39mexcept\u001b[39;00m futures\u001b[39m.\u001b[39mTimeoutError:\n\u001b[0;32m    324\u001b[0m     \u001b[39mraise\u001b[39;00m RuntimeJobTimeoutError(\n\u001b[0;32m    325\u001b[0m         \u001b[39mf\u001b[39m\u001b[39m\"\u001b[39m\u001b[39mTimed out waiting for job to complete after \u001b[39m\u001b[39m{\u001b[39;00mtimeout\u001b[39m}\u001b[39;00m\u001b[39m secs.\u001b[39m\u001b[39m\"\u001b[39m\n\u001b[0;32m    326\u001b[0m     )\n",
      "File \u001b[1;32mc:\\Users\\spill\\AppData\\Local\\Programs\\Python\\Python311\\Lib\\site-packages\\qiskit_ibm_runtime\\runtime_job.py:277\u001b[0m, in \u001b[0;36mRuntimeJob.status\u001b[1;34m(self)\u001b[0m\n\u001b[0;32m    271\u001b[0m \u001b[39mdef\u001b[39;00m \u001b[39mstatus\u001b[39m(\u001b[39mself\u001b[39m) \u001b[39m-\u001b[39m\u001b[39m>\u001b[39m JobStatus:\n\u001b[0;32m    272\u001b[0m \u001b[39m    \u001b[39m\u001b[39m\"\"\"Return the status of the job.\u001b[39;00m\n\u001b[0;32m    273\u001b[0m \n\u001b[0;32m    274\u001b[0m \u001b[39m    Returns:\u001b[39;00m\n\u001b[0;32m    275\u001b[0m \u001b[39m        Status of this job.\u001b[39;00m\n\u001b[0;32m    276\u001b[0m \u001b[39m    \"\"\"\u001b[39;00m\n\u001b[1;32m--> 277\u001b[0m     \u001b[39mself\u001b[39;49m\u001b[39m.\u001b[39;49m_set_status_and_error_message()\n\u001b[0;32m    278\u001b[0m     \u001b[39mreturn\u001b[39;00m \u001b[39mself\u001b[39m\u001b[39m.\u001b[39m_status\n",
      "File \u001b[1;32mc:\\Users\\spill\\AppData\\Local\\Programs\\Python\\Python311\\Lib\\site-packages\\qiskit_ibm_runtime\\runtime_job.py:419\u001b[0m, in \u001b[0;36mRuntimeJob._set_status_and_error_message\u001b[1;34m(self)\u001b[0m\n\u001b[0;32m    417\u001b[0m \u001b[39m\u001b[39m\u001b[39m\"\"\"Fetch and set status and error message.\"\"\"\u001b[39;00m\n\u001b[0;32m    418\u001b[0m \u001b[39mif\u001b[39;00m \u001b[39mself\u001b[39m\u001b[39m.\u001b[39m_status \u001b[39mnot\u001b[39;00m \u001b[39min\u001b[39;00m JOB_FINAL_STATES:\n\u001b[1;32m--> 419\u001b[0m     response \u001b[39m=\u001b[39m \u001b[39mself\u001b[39;49m\u001b[39m.\u001b[39;49m_api_client\u001b[39m.\u001b[39;49mjob_get(job_id\u001b[39m=\u001b[39;49m\u001b[39mself\u001b[39;49m\u001b[39m.\u001b[39;49mjob_id())\n\u001b[0;32m    420\u001b[0m     \u001b[39mself\u001b[39m\u001b[39m.\u001b[39m_set_status(response)\n\u001b[0;32m    421\u001b[0m     \u001b[39mself\u001b[39m\u001b[39m.\u001b[39m_set_error_message(response)\n",
      "File \u001b[1;32mc:\\Users\\spill\\AppData\\Local\\Programs\\Python\\Python311\\Lib\\site-packages\\qiskit_ibm_runtime\\api\\clients\\runtime.py:214\u001b[0m, in \u001b[0;36mRuntimeClient.job_get\u001b[1;34m(self, job_id, exclude_params)\u001b[0m\n\u001b[0;32m    205\u001b[0m \u001b[39mdef\u001b[39;00m \u001b[39mjob_get\u001b[39m(\u001b[39mself\u001b[39m, job_id: \u001b[39mstr\u001b[39m, exclude_params: \u001b[39mbool\u001b[39m \u001b[39m=\u001b[39m \u001b[39mNone\u001b[39;00m) \u001b[39m-\u001b[39m\u001b[39m>\u001b[39m Dict:\n\u001b[0;32m    206\u001b[0m \u001b[39m    \u001b[39m\u001b[39m\"\"\"Get job data.\u001b[39;00m\n\u001b[0;32m    207\u001b[0m \n\u001b[0;32m    208\u001b[0m \u001b[39m    Args:\u001b[39;00m\n\u001b[1;32m   (...)\u001b[0m\n\u001b[0;32m    212\u001b[0m \u001b[39m        JSON response.\u001b[39;00m\n\u001b[0;32m    213\u001b[0m \u001b[39m    \"\"\"\u001b[39;00m\n\u001b[1;32m--> 214\u001b[0m     response \u001b[39m=\u001b[39m \u001b[39mself\u001b[39;49m\u001b[39m.\u001b[39;49m_api\u001b[39m.\u001b[39;49mprogram_job(job_id)\u001b[39m.\u001b[39;49mget(exclude_params\u001b[39m=\u001b[39;49mexclude_params)\n\u001b[0;32m    215\u001b[0m     logger\u001b[39m.\u001b[39mdebug(\u001b[39m\"\u001b[39m\u001b[39mRuntime job get response: \u001b[39m\u001b[39m%s\u001b[39;00m\u001b[39m\"\u001b[39m, response)\n\u001b[0;32m    216\u001b[0m     \u001b[39mreturn\u001b[39;00m response\n",
      "File \u001b[1;32mc:\\Users\\spill\\AppData\\Local\\Programs\\Python\\Python311\\Lib\\site-packages\\qiskit_ibm_runtime\\api\\rest\\program_job.py:57\u001b[0m, in \u001b[0;36mProgramJob.get\u001b[1;34m(self, exclude_params)\u001b[0m\n\u001b[0;32m     55\u001b[0m \u001b[39mif\u001b[39;00m exclude_params:\n\u001b[0;32m     56\u001b[0m     payload[\u001b[39m\"\u001b[39m\u001b[39mexclude_params\u001b[39m\u001b[39m\"\u001b[39m] \u001b[39m=\u001b[39m \u001b[39m\"\u001b[39m\u001b[39mtrue\u001b[39m\u001b[39m\"\u001b[39m\n\u001b[1;32m---> 57\u001b[0m \u001b[39mreturn\u001b[39;00m \u001b[39mself\u001b[39;49m\u001b[39m.\u001b[39;49msession\u001b[39m.\u001b[39;49mget(\u001b[39mself\u001b[39;49m\u001b[39m.\u001b[39;49mget_url(\u001b[39m\"\u001b[39;49m\u001b[39mself\u001b[39;49m\u001b[39m\"\u001b[39;49m), params\u001b[39m=\u001b[39;49mpayload)\u001b[39m.\u001b[39mjson()\n",
      "File \u001b[1;32mc:\\Users\\spill\\AppData\\Local\\Programs\\Python\\Python311\\Lib\\site-packages\\requests\\sessions.py:602\u001b[0m, in \u001b[0;36mSession.get\u001b[1;34m(self, url, **kwargs)\u001b[0m\n\u001b[0;32m    594\u001b[0m \u001b[39m\u001b[39m\u001b[39mr\u001b[39m\u001b[39m\"\"\"Sends a GET request. Returns :class:`Response` object.\u001b[39;00m\n\u001b[0;32m    595\u001b[0m \n\u001b[0;32m    596\u001b[0m \u001b[39m:param url: URL for the new :class:`Request` object.\u001b[39;00m\n\u001b[0;32m    597\u001b[0m \u001b[39m:param \\*\\*kwargs: Optional arguments that ``request`` takes.\u001b[39;00m\n\u001b[0;32m    598\u001b[0m \u001b[39m:rtype: requests.Response\u001b[39;00m\n\u001b[0;32m    599\u001b[0m \u001b[39m\"\"\"\u001b[39;00m\n\u001b[0;32m    601\u001b[0m kwargs\u001b[39m.\u001b[39msetdefault(\u001b[39m\"\u001b[39m\u001b[39mallow_redirects\u001b[39m\u001b[39m\"\u001b[39m, \u001b[39mTrue\u001b[39;00m)\n\u001b[1;32m--> 602\u001b[0m \u001b[39mreturn\u001b[39;00m \u001b[39mself\u001b[39;49m\u001b[39m.\u001b[39;49mrequest(\u001b[39m\"\u001b[39;49m\u001b[39mGET\u001b[39;49m\u001b[39m\"\u001b[39;49m, url, \u001b[39m*\u001b[39;49m\u001b[39m*\u001b[39;49mkwargs)\n",
      "File \u001b[1;32mc:\\Users\\spill\\AppData\\Local\\Programs\\Python\\Python311\\Lib\\site-packages\\qiskit_ibm_runtime\\api\\session.py:280\u001b[0m, in \u001b[0;36mRetrySession.request\u001b[1;34m(self, method, url, bare, **kwargs)\u001b[0m\n\u001b[0;32m    277\u001b[0m \u001b[39m# Use PurePath in order to support arbitrary path formats\u001b[39;00m\n\u001b[0;32m    278\u001b[0m callers \u001b[39m=\u001b[39m {PurePath(\u001b[39m\"\u001b[39m\u001b[39mqiskit/\u001b[39m\u001b[39m\"\u001b[39m), \u001b[39m\"\u001b[39m\u001b[39mqiskit_\u001b[39m\u001b[39m\"\u001b[39m, \u001b[39m\"\u001b[39m\u001b[39mcircuit_knitting_toolbox\u001b[39m\u001b[39m\"\u001b[39m}\n\u001b[1;32m--> 280\u001b[0m stack \u001b[39m=\u001b[39m inspect\u001b[39m.\u001b[39;49mstack()\n\u001b[0;32m    281\u001b[0m stack\u001b[39m.\u001b[39mreverse()\n\u001b[0;32m    283\u001b[0m found_caller \u001b[39m=\u001b[39m \u001b[39mFalse\u001b[39;00m\n",
      "File \u001b[1;32mc:\\Users\\spill\\AppData\\Local\\Programs\\Python\\Python311\\Lib\\inspect.py:1755\u001b[0m, in \u001b[0;36mstack\u001b[1;34m(context)\u001b[0m\n\u001b[0;32m   1753\u001b[0m \u001b[39mdef\u001b[39;00m \u001b[39mstack\u001b[39m(context\u001b[39m=\u001b[39m\u001b[39m1\u001b[39m):\n\u001b[0;32m   1754\u001b[0m \u001b[39m    \u001b[39m\u001b[39m\"\"\"Return a list of records for the stack above the caller's frame.\"\"\"\u001b[39;00m\n\u001b[1;32m-> 1755\u001b[0m     \u001b[39mreturn\u001b[39;00m getouterframes(sys\u001b[39m.\u001b[39;49m_getframe(\u001b[39m1\u001b[39;49m), context)\n",
      "File \u001b[1;32mc:\\Users\\spill\\AppData\\Local\\Programs\\Python\\Python311\\Lib\\inspect.py:1730\u001b[0m, in \u001b[0;36mgetouterframes\u001b[1;34m(frame, context)\u001b[0m\n\u001b[0;32m   1728\u001b[0m framelist \u001b[39m=\u001b[39m []\n\u001b[0;32m   1729\u001b[0m \u001b[39mwhile\u001b[39;00m frame:\n\u001b[1;32m-> 1730\u001b[0m     traceback_info \u001b[39m=\u001b[39m getframeinfo(frame, context)\n\u001b[0;32m   1731\u001b[0m     frameinfo \u001b[39m=\u001b[39m (frame,) \u001b[39m+\u001b[39m traceback_info\n\u001b[0;32m   1732\u001b[0m     framelist\u001b[39m.\u001b[39mappend(FrameInfo(\u001b[39m*\u001b[39mframeinfo, positions\u001b[39m=\u001b[39mtraceback_info\u001b[39m.\u001b[39mpositions))\n",
      "File \u001b[1;32mc:\\Users\\spill\\AppData\\Local\\Programs\\Python\\Python311\\Lib\\inspect.py:1692\u001b[0m, in \u001b[0;36mgetframeinfo\u001b[1;34m(frame, context)\u001b[0m\n\u001b[0;32m   1690\u001b[0m start \u001b[39m=\u001b[39m lineno \u001b[39m-\u001b[39m \u001b[39m1\u001b[39m \u001b[39m-\u001b[39m context\u001b[39m/\u001b[39m\u001b[39m/\u001b[39m\u001b[39m2\u001b[39m\n\u001b[0;32m   1691\u001b[0m \u001b[39mtry\u001b[39;00m:\n\u001b[1;32m-> 1692\u001b[0m     lines, lnum \u001b[39m=\u001b[39m findsource(frame)\n\u001b[0;32m   1693\u001b[0m \u001b[39mexcept\u001b[39;00m \u001b[39mOSError\u001b[39;00m:\n\u001b[0;32m   1694\u001b[0m     lines \u001b[39m=\u001b[39m index \u001b[39m=\u001b[39m \u001b[39mNone\u001b[39;00m\n",
      "File \u001b[1;32mc:\\Users\\spill\\AppData\\Local\\Programs\\Python\\Python311\\Lib\\inspect.py:1063\u001b[0m, in \u001b[0;36mfindsource\u001b[1;34m(object)\u001b[0m\n\u001b[0;32m   1055\u001b[0m \u001b[39mdef\u001b[39;00m \u001b[39mfindsource\u001b[39m(\u001b[39mobject\u001b[39m):\n\u001b[0;32m   1056\u001b[0m \u001b[39m    \u001b[39m\u001b[39m\"\"\"Return the entire source file and starting line number for an object.\u001b[39;00m\n\u001b[0;32m   1057\u001b[0m \n\u001b[0;32m   1058\u001b[0m \u001b[39m    The argument may be a module, class, method, function, traceback, frame,\u001b[39;00m\n\u001b[0;32m   1059\u001b[0m \u001b[39m    or code object.  The source code is returned as a list of all the lines\u001b[39;00m\n\u001b[0;32m   1060\u001b[0m \u001b[39m    in the file and the line number indexes a line in that list.  An OSError\u001b[39;00m\n\u001b[0;32m   1061\u001b[0m \u001b[39m    is raised if the source code cannot be retrieved.\"\"\"\u001b[39;00m\n\u001b[1;32m-> 1063\u001b[0m     file \u001b[39m=\u001b[39m getsourcefile(\u001b[39mobject\u001b[39;49m)\n\u001b[0;32m   1064\u001b[0m     \u001b[39mif\u001b[39;00m file:\n\u001b[0;32m   1065\u001b[0m         \u001b[39m# Invalidate cache if needed.\u001b[39;00m\n\u001b[0;32m   1066\u001b[0m         linecache\u001b[39m.\u001b[39mcheckcache(file)\n",
      "File \u001b[1;32mc:\\Users\\spill\\AppData\\Local\\Programs\\Python\\Python311\\Lib\\inspect.py:952\u001b[0m, in \u001b[0;36mgetsourcefile\u001b[1;34m(object)\u001b[0m\n\u001b[0;32m    950\u001b[0m     \u001b[39mreturn\u001b[39;00m filename\n\u001b[0;32m    951\u001b[0m \u001b[39m# only return a non-existent filename if the module has a PEP 302 loader\u001b[39;00m\n\u001b[1;32m--> 952\u001b[0m module \u001b[39m=\u001b[39m getmodule(\u001b[39mobject\u001b[39;49m, filename)\n\u001b[0;32m    953\u001b[0m \u001b[39mif\u001b[39;00m \u001b[39mgetattr\u001b[39m(module, \u001b[39m'\u001b[39m\u001b[39m__loader__\u001b[39m\u001b[39m'\u001b[39m, \u001b[39mNone\u001b[39;00m) \u001b[39mis\u001b[39;00m \u001b[39mnot\u001b[39;00m \u001b[39mNone\u001b[39;00m:\n\u001b[0;32m    954\u001b[0m     \u001b[39mreturn\u001b[39;00m filename\n",
      "File \u001b[1;32mc:\\Users\\spill\\AppData\\Local\\Programs\\Python\\Python311\\Lib\\inspect.py:973\u001b[0m, in \u001b[0;36mgetmodule\u001b[1;34m(object, _filename)\u001b[0m\n\u001b[0;32m    970\u001b[0m modulesbyfile \u001b[39m=\u001b[39m {}\n\u001b[0;32m    971\u001b[0m _filesbymodname \u001b[39m=\u001b[39m {}\n\u001b[1;32m--> 973\u001b[0m \u001b[39mdef\u001b[39;00m \u001b[39mgetmodule\u001b[39m(\u001b[39mobject\u001b[39m, _filename\u001b[39m=\u001b[39m\u001b[39mNone\u001b[39;00m):\n\u001b[0;32m    974\u001b[0m \u001b[39m    \u001b[39m\u001b[39m\"\"\"Return the module an object was defined in, or None if not found.\"\"\"\u001b[39;00m\n\u001b[0;32m    975\u001b[0m     \u001b[39mif\u001b[39;00m ismodule(\u001b[39mobject\u001b[39m):\n",
      "\u001b[1;31mKeyboardInterrupt\u001b[0m: "
     ]
    }
   ],
   "source": [
    "with Session(backend=backend):\n",
    "    estimator = Estimator(options={\"shots\": int(1e4)})\n",
    "    callback = build_callback(ansatz, hamiltonian, estimator, callback_dict)\n",
    "    res = minimize(\n",
    "        cost_func,\n",
    "        x0,\n",
    "        args=(ansatz, hamiltonian, estimator),\n",
    "        method=\"cobyla\",\n",
    "        callback=callback,\n",
    "    )"
   ]
  },
  {
   "attachments": {},
   "cell_type": "markdown",
   "id": "733431ad",
   "metadata": {},
   "source": [
    "If the procedure terminates correctly, then the `prev_vector` and `iters` values in our `callback_dict` dictionary should be equal to the solution vector and total number of function evaluations, respectively.  This is easy to verify:"
   ]
  },
  {
   "cell_type": "code",
   "execution_count": 15,
   "id": "30630583",
   "metadata": {},
   "outputs": [
    {
     "ename": "NameError",
     "evalue": "name 'res' is not defined",
     "output_type": "error",
     "traceback": [
      "\u001b[1;31m---------------------------------------------------------------------------\u001b[0m",
      "\u001b[1;31mNameError\u001b[0m                                 Traceback (most recent call last)",
      "Cell \u001b[1;32mIn[15], line 1\u001b[0m\n\u001b[1;32m----> 1\u001b[0m \u001b[39mall\u001b[39m(callback_dict[\u001b[39m\"\u001b[39m\u001b[39mprev_vector\u001b[39m\u001b[39m\"\u001b[39m] \u001b[39m==\u001b[39m res\u001b[39m.\u001b[39mx)\n",
      "\u001b[1;31mNameError\u001b[0m: name 'res' is not defined"
     ]
    }
   ],
   "source": [
    "all(callback_dict[\"prev_vector\"] == res.x)"
   ]
  },
  {
   "cell_type": "code",
   "execution_count": 16,
   "id": "72ae1d21",
   "metadata": {},
   "outputs": [
    {
     "ename": "NameError",
     "evalue": "name 'res' is not defined",
     "output_type": "error",
     "traceback": [
      "\u001b[1;31m---------------------------------------------------------------------------\u001b[0m",
      "\u001b[1;31mNameError\u001b[0m                                 Traceback (most recent call last)",
      "Cell \u001b[1;32mIn[16], line 1\u001b[0m\n\u001b[1;32m----> 1\u001b[0m callback_dict[\u001b[39m\"\u001b[39m\u001b[39miters\u001b[39m\u001b[39m\"\u001b[39m] \u001b[39m==\u001b[39m res\u001b[39m.\u001b[39mnfev\n",
      "\u001b[1;31mNameError\u001b[0m: name 'res' is not defined"
     ]
    }
   ],
   "source": [
    "callback_dict[\"iters\"] == res.nfev"
   ]
  },
  {
   "attachments": {},
   "cell_type": "markdown",
   "id": "19459b48",
   "metadata": {},
   "source": [
    "We can also now view the progress towards convergence as monitored by the cost history at each iteration:"
   ]
  },
  {
   "cell_type": "code",
   "execution_count": 17,
   "id": "8501d609",
   "metadata": {},
   "outputs": [
    {
     "data": {
      "image/png": "[encoded data removed]",
      "text/plain": [
       "<Figure size 640x480 with 1 Axes>"
      ]
     },
     "metadata": {
      "image/png": {
       "height": 432,
       "width": 585
      }
     },
     "output_type": "display_data"
    }
   ],
   "source": [
    "fig, ax = plt.subplots()\n",
    "ax.plot(range(callback_dict[\"iters\"]), callback_dict[\"cost_history\"])\n",
    "ax.set_xlabel(\"Iterations\")\n",
    "ax.set_ylabel(\"Cost\");"
   ]
  },
  {
   "cell_type": "code",
   "execution_count": 1,
   "id": "19f8dc38",
   "metadata": {},
   "outputs": [
    {
     "data": {
      "text/html": [
       "<h3>Version Information</h3><table><tr><th>Qiskit Software</th><th>Version</th></tr><tr><td><code>qiskit-terra</code></td><td>0.24.1</td></tr><tr><td><code>qiskit-aer</code></td><td>0.12.0</td></tr><tr><td><code>qiskit-ibmq-provider</code></td><td>0.20.2</td></tr><tr><td><code>qiskit</code></td><td>0.43.0</td></tr><tr><th>System information</th></tr><tr><td>Python version</td><td>3.11.3</td></tr><tr><td>Python compiler</td><td>Clang 14.0.6 </td></tr><tr><td>Python build</td><td>main, Apr  6 2023 08:58:31</td></tr><tr><td>OS</td><td>Darwin</td></tr><tr><td>CPUs</td><td>8</td></tr><tr><td>Memory (Gb)</td><td>16.0</td></tr><tr><td colspan='2'>Mon Jun 12 17:47:03 2023 EDT</td></tr></table>"
      ],
      "text/plain": [
       "<IPython.core.display.HTML object>"
      ]
     },
     "metadata": {},
     "output_type": "display_data"
    },
    {
     "data": {
      "text/html": [
       "<div style='width: 100%; background-color:#d5d9e0;padding-left: 10px; padding-bottom: 10px; padding-right: 10px; padding-top: 5px'><h3>This code is a part of Qiskit</h3><p>&copy; Copyright IBM 2017, 2023.</p><p>This code is licensed under the Apache License, Version 2.0. You may<br>obtain a copy of this license in the LICENSE.txt file in the root directory<br> of this source tree or at http://www.apache.org/licenses/LICENSE-2.0.<p>Any modifications or derivative works of this code must retain this<br>copyright notice, and modified files need to carry a notice indicating<br>that they have been altered from the originals.</p></div>"
      ],
      "text/plain": [
       "<IPython.core.display.HTML object>"
      ]
     },
     "metadata": {},
     "output_type": "display_data"
    }
   ],
   "source": [
    "import qiskit.tools.jupyter\n",
    "\n",
    "%qiskit_version_table\n",
    "%qiskit_copyright"
   ]
  },
  {
   "cell_type": "code",
   "execution_count": null,
   "id": "2f65e819",
   "metadata": {},
   "outputs": [],
   "source": []
  }
 ],
 "metadata": {
  "kernelspec": {
   "display_name": "Python 3 (ipykernel)",
   "language": "python",
   "name": "python3"
  },
  "language_info": {
   "codemirror_mode": {
    "name": "ipython",
    "version": 3
   },
   "file_extension": ".py",
   "mimetype": "text/x-python",
   "name": "python",
   "nbconvert_exporter": "python",
   "pygments_lexer": "ipython3",
   "version": "3.11.4"
  }
 },
 "nbformat": 4,
 "nbformat_minor": 5
}
